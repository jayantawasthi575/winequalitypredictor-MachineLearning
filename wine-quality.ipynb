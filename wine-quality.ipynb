{
 "cells": [
  {
   "cell_type": "code",
   "execution_count": 1,
   "metadata": {
    "_cell_guid": "b1076dfc-b9ad-4769-8c92-a6c4dae69d19",
    "_uuid": "8f2839f25d086af736a60e9eeb907d3b93b6e0e5",
    "execution": {
     "iopub.execute_input": "2020-09-12T16:28:39.749969Z",
     "iopub.status.busy": "2020-09-12T16:28:39.749234Z",
     "iopub.status.idle": "2020-09-12T16:28:41.410083Z",
     "shell.execute_reply": "2020-09-12T16:28:41.409346Z"
    },
    "papermill": {
     "duration": 1.700325,
     "end_time": "2020-09-12T16:28:41.410215",
     "exception": false,
     "start_time": "2020-09-12T16:28:39.709890",
     "status": "completed"
    },
    "tags": []
   },
   "outputs": [
    {
     "name": "stdout",
     "output_type": "stream",
     "text": [
      "/kaggle/input/wine-quality/winequalityN.csv\n"
     ]
    }
   ],
   "source": [
    "# This Python 3 environment comes with many helpful analytics libraries installed\n",
    "# It is defined by the kaggle/python Docker image: https://github.com/kaggle/docker-python\n",
    "# For example, here's several helpful packages to load\n",
    "\n",
    "import numpy as np # linear algebra\n",
    "import pandas as pd # data processing, CSV file I/O (e.g. pd.read_csv)\n",
    "import seaborn as sns\n",
    "import matplotlib.pyplot as plt\n",
    "from sklearn.ensemble import ExtraTreesClassifier\n",
    "%matplotlib inline\n",
    "from sklearn.model_selection import cross_val_score\n",
    "from sklearn.metrics import confusion_matrix\n",
    "from sklearn.metrics import classification_report\n",
    "from sklearn.model_selection import GridSearchCV \n",
    "from imblearn.combine import SMOTETomek\n",
    "# Input data files are available in the read-only \"../input/\" directory\n",
    "# For example, running this (by clicking run or pressing Shift+Enter) will list all files under the input directory\n",
    "\n",
    "import os\n",
    "for dirname, _, filenames in os.walk('/kaggle/input'):\n",
    "    for filename in filenames:\n",
    "        print(os.path.join(dirname, filename))\n",
    "\n",
    "# You can write up to 5GB to the current directory (/kaggle/working/) that gets preserved as output when you create a version using \"Save & Run All\" \n",
    "# You can also write temporary files to /kaggle/temp/, but they won't be saved outside of the current session"
   ]
  },
  {
   "cell_type": "code",
   "execution_count": 2,
   "metadata": {
    "_cell_guid": "79c7e3d0-c299-4dcb-8224-4455121ee9b0",
    "_uuid": "d629ff2d2480ee46fbb7e2d37f6b5fab8052498a",
    "execution": {
     "iopub.execute_input": "2020-09-12T16:28:41.475943Z",
     "iopub.status.busy": "2020-09-12T16:28:41.475292Z",
     "iopub.status.idle": "2020-09-12T16:28:41.511968Z",
     "shell.execute_reply": "2020-09-12T16:28:41.512451Z"
    },
    "papermill": {
     "duration": 0.07184,
     "end_time": "2020-09-12T16:28:41.512611",
     "exception": false,
     "start_time": "2020-09-12T16:28:41.440771",
     "status": "completed"
    },
    "tags": []
   },
   "outputs": [],
   "source": [
    "wine1=pd.read_csv(\"../input/wine-quality/winequalityN.csv\")"
   ]
  },
  {
   "cell_type": "code",
   "execution_count": 3,
   "metadata": {
    "execution": {
     "iopub.execute_input": "2020-09-12T16:28:41.585743Z",
     "iopub.status.busy": "2020-09-12T16:28:41.584993Z",
     "iopub.status.idle": "2020-09-12T16:28:41.599236Z",
     "shell.execute_reply": "2020-09-12T16:28:41.598620Z"
    },
    "papermill": {
     "duration": 0.058286,
     "end_time": "2020-09-12T16:28:41.599347",
     "exception": false,
     "start_time": "2020-09-12T16:28:41.541061",
     "status": "completed"
    },
    "tags": []
   },
   "outputs": [
    {
     "data": {
      "text/html": [
       "<div>\n",
       "<style scoped>\n",
       "    .dataframe tbody tr th:only-of-type {\n",
       "        vertical-align: middle;\n",
       "    }\n",
       "\n",
       "    .dataframe tbody tr th {\n",
       "        vertical-align: top;\n",
       "    }\n",
       "\n",
       "    .dataframe thead th {\n",
       "        text-align: right;\n",
       "    }\n",
       "</style>\n",
       "<table border=\"1\" class=\"dataframe\">\n",
       "  <thead>\n",
       "    <tr style=\"text-align: right;\">\n",
       "      <th></th>\n",
       "      <th>type</th>\n",
       "      <th>fixed acidity</th>\n",
       "      <th>volatile acidity</th>\n",
       "      <th>citric acid</th>\n",
       "      <th>residual sugar</th>\n",
       "      <th>chlorides</th>\n",
       "      <th>free sulfur dioxide</th>\n",
       "      <th>total sulfur dioxide</th>\n",
       "      <th>density</th>\n",
       "      <th>pH</th>\n",
       "      <th>sulphates</th>\n",
       "      <th>alcohol</th>\n",
       "      <th>quality</th>\n",
       "    </tr>\n",
       "  </thead>\n",
       "  <tbody>\n",
       "    <tr>\n",
       "      <th>0</th>\n",
       "      <td>white</td>\n",
       "      <td>7.0</td>\n",
       "      <td>0.27</td>\n",
       "      <td>0.36</td>\n",
       "      <td>20.7</td>\n",
       "      <td>0.045</td>\n",
       "      <td>45.0</td>\n",
       "      <td>170.0</td>\n",
       "      <td>1.0010</td>\n",
       "      <td>3.00</td>\n",
       "      <td>0.45</td>\n",
       "      <td>8.8</td>\n",
       "      <td>6</td>\n",
       "    </tr>\n",
       "    <tr>\n",
       "      <th>1</th>\n",
       "      <td>white</td>\n",
       "      <td>6.3</td>\n",
       "      <td>0.30</td>\n",
       "      <td>0.34</td>\n",
       "      <td>1.6</td>\n",
       "      <td>0.049</td>\n",
       "      <td>14.0</td>\n",
       "      <td>132.0</td>\n",
       "      <td>0.9940</td>\n",
       "      <td>3.30</td>\n",
       "      <td>0.49</td>\n",
       "      <td>9.5</td>\n",
       "      <td>6</td>\n",
       "    </tr>\n",
       "    <tr>\n",
       "      <th>2</th>\n",
       "      <td>white</td>\n",
       "      <td>8.1</td>\n",
       "      <td>0.28</td>\n",
       "      <td>0.40</td>\n",
       "      <td>6.9</td>\n",
       "      <td>0.050</td>\n",
       "      <td>30.0</td>\n",
       "      <td>97.0</td>\n",
       "      <td>0.9951</td>\n",
       "      <td>3.26</td>\n",
       "      <td>0.44</td>\n",
       "      <td>10.1</td>\n",
       "      <td>6</td>\n",
       "    </tr>\n",
       "    <tr>\n",
       "      <th>3</th>\n",
       "      <td>white</td>\n",
       "      <td>7.2</td>\n",
       "      <td>0.23</td>\n",
       "      <td>0.32</td>\n",
       "      <td>8.5</td>\n",
       "      <td>0.058</td>\n",
       "      <td>47.0</td>\n",
       "      <td>186.0</td>\n",
       "      <td>0.9956</td>\n",
       "      <td>3.19</td>\n",
       "      <td>0.40</td>\n",
       "      <td>9.9</td>\n",
       "      <td>6</td>\n",
       "    </tr>\n",
       "    <tr>\n",
       "      <th>4</th>\n",
       "      <td>white</td>\n",
       "      <td>7.2</td>\n",
       "      <td>0.23</td>\n",
       "      <td>0.32</td>\n",
       "      <td>8.5</td>\n",
       "      <td>0.058</td>\n",
       "      <td>47.0</td>\n",
       "      <td>186.0</td>\n",
       "      <td>0.9956</td>\n",
       "      <td>3.19</td>\n",
       "      <td>0.40</td>\n",
       "      <td>9.9</td>\n",
       "      <td>6</td>\n",
       "    </tr>\n",
       "  </tbody>\n",
       "</table>\n",
       "</div>"
      ],
      "text/plain": [
       "    type  fixed acidity  volatile acidity  citric acid  residual sugar  \\\n",
       "0  white            7.0              0.27         0.36            20.7   \n",
       "1  white            6.3              0.30         0.34             1.6   \n",
       "2  white            8.1              0.28         0.40             6.9   \n",
       "3  white            7.2              0.23         0.32             8.5   \n",
       "4  white            7.2              0.23         0.32             8.5   \n",
       "\n",
       "   chlorides  free sulfur dioxide  total sulfur dioxide  density    pH  \\\n",
       "0      0.045                 45.0                 170.0   1.0010  3.00   \n",
       "1      0.049                 14.0                 132.0   0.9940  3.30   \n",
       "2      0.050                 30.0                  97.0   0.9951  3.26   \n",
       "3      0.058                 47.0                 186.0   0.9956  3.19   \n",
       "4      0.058                 47.0                 186.0   0.9956  3.19   \n",
       "\n",
       "   sulphates  alcohol  quality  \n",
       "0       0.45      8.8        6  \n",
       "1       0.49      9.5        6  \n",
       "2       0.44     10.1        6  \n",
       "3       0.40      9.9        6  \n",
       "4       0.40      9.9        6  "
      ]
     },
     "execution_count": 3,
     "metadata": {},
     "output_type": "execute_result"
    }
   ],
   "source": [
    "wine1.head()"
   ]
  },
  {
   "cell_type": "code",
   "execution_count": 4,
   "metadata": {
    "execution": {
     "iopub.execute_input": "2020-09-12T16:28:41.662990Z",
     "iopub.status.busy": "2020-09-12T16:28:41.662322Z",
     "iopub.status.idle": "2020-09-12T16:28:41.678773Z",
     "shell.execute_reply": "2020-09-12T16:28:41.679226Z"
    },
    "papermill": {
     "duration": 0.051454,
     "end_time": "2020-09-12T16:28:41.679375",
     "exception": false,
     "start_time": "2020-09-12T16:28:41.627921",
     "status": "completed"
    },
    "tags": []
   },
   "outputs": [
    {
     "name": "stdout",
     "output_type": "stream",
     "text": [
      "<class 'pandas.core.frame.DataFrame'>\n",
      "RangeIndex: 6497 entries, 0 to 6496\n",
      "Data columns (total 13 columns):\n",
      " #   Column                Non-Null Count  Dtype  \n",
      "---  ------                --------------  -----  \n",
      " 0   type                  6497 non-null   object \n",
      " 1   fixed acidity         6487 non-null   float64\n",
      " 2   volatile acidity      6489 non-null   float64\n",
      " 3   citric acid           6494 non-null   float64\n",
      " 4   residual sugar        6495 non-null   float64\n",
      " 5   chlorides             6495 non-null   float64\n",
      " 6   free sulfur dioxide   6497 non-null   float64\n",
      " 7   total sulfur dioxide  6497 non-null   float64\n",
      " 8   density               6497 non-null   float64\n",
      " 9   pH                    6488 non-null   float64\n",
      " 10  sulphates             6493 non-null   float64\n",
      " 11  alcohol               6497 non-null   float64\n",
      " 12  quality               6497 non-null   int64  \n",
      "dtypes: float64(11), int64(1), object(1)\n",
      "memory usage: 660.0+ KB\n"
     ]
    }
   ],
   "source": [
    "wine1.info()"
   ]
  },
  {
   "cell_type": "code",
   "execution_count": 5,
   "metadata": {
    "execution": {
     "iopub.execute_input": "2020-09-12T16:28:41.747616Z",
     "iopub.status.busy": "2020-09-12T16:28:41.746968Z",
     "iopub.status.idle": "2020-09-12T16:28:41.790213Z",
     "shell.execute_reply": "2020-09-12T16:28:41.790740Z"
    },
    "papermill": {
     "duration": 0.082539,
     "end_time": "2020-09-12T16:28:41.790886",
     "exception": false,
     "start_time": "2020-09-12T16:28:41.708347",
     "status": "completed"
    },
    "tags": []
   },
   "outputs": [
    {
     "data": {
      "text/html": [
       "<div>\n",
       "<style scoped>\n",
       "    .dataframe tbody tr th:only-of-type {\n",
       "        vertical-align: middle;\n",
       "    }\n",
       "\n",
       "    .dataframe tbody tr th {\n",
       "        vertical-align: top;\n",
       "    }\n",
       "\n",
       "    .dataframe thead th {\n",
       "        text-align: right;\n",
       "    }\n",
       "</style>\n",
       "<table border=\"1\" class=\"dataframe\">\n",
       "  <thead>\n",
       "    <tr style=\"text-align: right;\">\n",
       "      <th></th>\n",
       "      <th>fixed acidity</th>\n",
       "      <th>volatile acidity</th>\n",
       "      <th>citric acid</th>\n",
       "      <th>residual sugar</th>\n",
       "      <th>chlorides</th>\n",
       "      <th>free sulfur dioxide</th>\n",
       "      <th>total sulfur dioxide</th>\n",
       "      <th>density</th>\n",
       "      <th>pH</th>\n",
       "      <th>sulphates</th>\n",
       "      <th>alcohol</th>\n",
       "      <th>quality</th>\n",
       "    </tr>\n",
       "  </thead>\n",
       "  <tbody>\n",
       "    <tr>\n",
       "      <th>count</th>\n",
       "      <td>6487.000000</td>\n",
       "      <td>6489.000000</td>\n",
       "      <td>6494.000000</td>\n",
       "      <td>6495.000000</td>\n",
       "      <td>6495.000000</td>\n",
       "      <td>6497.000000</td>\n",
       "      <td>6497.000000</td>\n",
       "      <td>6497.000000</td>\n",
       "      <td>6488.000000</td>\n",
       "      <td>6493.000000</td>\n",
       "      <td>6497.000000</td>\n",
       "      <td>6497.000000</td>\n",
       "    </tr>\n",
       "    <tr>\n",
       "      <th>mean</th>\n",
       "      <td>7.216579</td>\n",
       "      <td>0.339691</td>\n",
       "      <td>0.318722</td>\n",
       "      <td>5.444326</td>\n",
       "      <td>0.056042</td>\n",
       "      <td>30.525319</td>\n",
       "      <td>115.744574</td>\n",
       "      <td>0.994697</td>\n",
       "      <td>3.218395</td>\n",
       "      <td>0.531215</td>\n",
       "      <td>10.491801</td>\n",
       "      <td>5.818378</td>\n",
       "    </tr>\n",
       "    <tr>\n",
       "      <th>std</th>\n",
       "      <td>1.296750</td>\n",
       "      <td>0.164649</td>\n",
       "      <td>0.145265</td>\n",
       "      <td>4.758125</td>\n",
       "      <td>0.035036</td>\n",
       "      <td>17.749400</td>\n",
       "      <td>56.521855</td>\n",
       "      <td>0.002999</td>\n",
       "      <td>0.160748</td>\n",
       "      <td>0.148814</td>\n",
       "      <td>1.192712</td>\n",
       "      <td>0.873255</td>\n",
       "    </tr>\n",
       "    <tr>\n",
       "      <th>min</th>\n",
       "      <td>3.800000</td>\n",
       "      <td>0.080000</td>\n",
       "      <td>0.000000</td>\n",
       "      <td>0.600000</td>\n",
       "      <td>0.009000</td>\n",
       "      <td>1.000000</td>\n",
       "      <td>6.000000</td>\n",
       "      <td>0.987110</td>\n",
       "      <td>2.720000</td>\n",
       "      <td>0.220000</td>\n",
       "      <td>8.000000</td>\n",
       "      <td>3.000000</td>\n",
       "    </tr>\n",
       "    <tr>\n",
       "      <th>25%</th>\n",
       "      <td>6.400000</td>\n",
       "      <td>0.230000</td>\n",
       "      <td>0.250000</td>\n",
       "      <td>1.800000</td>\n",
       "      <td>0.038000</td>\n",
       "      <td>17.000000</td>\n",
       "      <td>77.000000</td>\n",
       "      <td>0.992340</td>\n",
       "      <td>3.110000</td>\n",
       "      <td>0.430000</td>\n",
       "      <td>9.500000</td>\n",
       "      <td>5.000000</td>\n",
       "    </tr>\n",
       "    <tr>\n",
       "      <th>50%</th>\n",
       "      <td>7.000000</td>\n",
       "      <td>0.290000</td>\n",
       "      <td>0.310000</td>\n",
       "      <td>3.000000</td>\n",
       "      <td>0.047000</td>\n",
       "      <td>29.000000</td>\n",
       "      <td>118.000000</td>\n",
       "      <td>0.994890</td>\n",
       "      <td>3.210000</td>\n",
       "      <td>0.510000</td>\n",
       "      <td>10.300000</td>\n",
       "      <td>6.000000</td>\n",
       "    </tr>\n",
       "    <tr>\n",
       "      <th>75%</th>\n",
       "      <td>7.700000</td>\n",
       "      <td>0.400000</td>\n",
       "      <td>0.390000</td>\n",
       "      <td>8.100000</td>\n",
       "      <td>0.065000</td>\n",
       "      <td>41.000000</td>\n",
       "      <td>156.000000</td>\n",
       "      <td>0.996990</td>\n",
       "      <td>3.320000</td>\n",
       "      <td>0.600000</td>\n",
       "      <td>11.300000</td>\n",
       "      <td>6.000000</td>\n",
       "    </tr>\n",
       "    <tr>\n",
       "      <th>max</th>\n",
       "      <td>15.900000</td>\n",
       "      <td>1.580000</td>\n",
       "      <td>1.660000</td>\n",
       "      <td>65.800000</td>\n",
       "      <td>0.611000</td>\n",
       "      <td>289.000000</td>\n",
       "      <td>440.000000</td>\n",
       "      <td>1.038980</td>\n",
       "      <td>4.010000</td>\n",
       "      <td>2.000000</td>\n",
       "      <td>14.900000</td>\n",
       "      <td>9.000000</td>\n",
       "    </tr>\n",
       "  </tbody>\n",
       "</table>\n",
       "</div>"
      ],
      "text/plain": [
       "       fixed acidity  volatile acidity  citric acid  residual sugar  \\\n",
       "count    6487.000000       6489.000000  6494.000000     6495.000000   \n",
       "mean        7.216579          0.339691     0.318722        5.444326   \n",
       "std         1.296750          0.164649     0.145265        4.758125   \n",
       "min         3.800000          0.080000     0.000000        0.600000   \n",
       "25%         6.400000          0.230000     0.250000        1.800000   \n",
       "50%         7.000000          0.290000     0.310000        3.000000   \n",
       "75%         7.700000          0.400000     0.390000        8.100000   \n",
       "max        15.900000          1.580000     1.660000       65.800000   \n",
       "\n",
       "         chlorides  free sulfur dioxide  total sulfur dioxide      density  \\\n",
       "count  6495.000000          6497.000000           6497.000000  6497.000000   \n",
       "mean      0.056042            30.525319            115.744574     0.994697   \n",
       "std       0.035036            17.749400             56.521855     0.002999   \n",
       "min       0.009000             1.000000              6.000000     0.987110   \n",
       "25%       0.038000            17.000000             77.000000     0.992340   \n",
       "50%       0.047000            29.000000            118.000000     0.994890   \n",
       "75%       0.065000            41.000000            156.000000     0.996990   \n",
       "max       0.611000           289.000000            440.000000     1.038980   \n",
       "\n",
       "                pH    sulphates      alcohol      quality  \n",
       "count  6488.000000  6493.000000  6497.000000  6497.000000  \n",
       "mean      3.218395     0.531215    10.491801     5.818378  \n",
       "std       0.160748     0.148814     1.192712     0.873255  \n",
       "min       2.720000     0.220000     8.000000     3.000000  \n",
       "25%       3.110000     0.430000     9.500000     5.000000  \n",
       "50%       3.210000     0.510000    10.300000     6.000000  \n",
       "75%       3.320000     0.600000    11.300000     6.000000  \n",
       "max       4.010000     2.000000    14.900000     9.000000  "
      ]
     },
     "execution_count": 5,
     "metadata": {},
     "output_type": "execute_result"
    }
   ],
   "source": [
    "wine1.describe()"
   ]
  },
  {
   "cell_type": "code",
   "execution_count": 6,
   "metadata": {
    "execution": {
     "iopub.execute_input": "2020-09-12T16:28:41.858169Z",
     "iopub.status.busy": "2020-09-12T16:28:41.856086Z",
     "iopub.status.idle": "2020-09-12T16:28:41.862175Z",
     "shell.execute_reply": "2020-09-12T16:28:41.861518Z"
    },
    "papermill": {
     "duration": 0.041322,
     "end_time": "2020-09-12T16:28:41.862290",
     "exception": false,
     "start_time": "2020-09-12T16:28:41.820968",
     "status": "completed"
    },
    "tags": []
   },
   "outputs": [
    {
     "data": {
      "text/plain": [
       "Index(['fixed acidity', 'volatile acidity', 'citric acid', 'residual sugar',\n",
       "       'chlorides', 'pH', 'sulphates'],\n",
       "      dtype='object')"
      ]
     },
     "execution_count": 6,
     "metadata": {},
     "output_type": "execute_result"
    }
   ],
   "source": [
    "wine1.loc[:,wine1.isnull().any()].columns"
   ]
  },
  {
   "cell_type": "code",
   "execution_count": 7,
   "metadata": {
    "execution": {
     "iopub.execute_input": "2020-09-12T16:28:41.930077Z",
     "iopub.status.busy": "2020-09-12T16:28:41.927704Z",
     "iopub.status.idle": "2020-09-12T16:28:41.935342Z",
     "shell.execute_reply": "2020-09-12T16:28:41.934824Z"
    },
    "papermill": {
     "duration": 0.043279,
     "end_time": "2020-09-12T16:28:41.935470",
     "exception": false,
     "start_time": "2020-09-12T16:28:41.892191",
     "status": "completed"
    },
    "tags": []
   },
   "outputs": [],
   "source": [
    "x=['fixed acidity', 'volatile acidity', 'citric acid', 'residual sugar',\n",
    "       'chlorides', 'pH', 'sulphates']\n",
    "for i in x:\n",
    "    wine1[i]=wine1[i].fillna(wine1[i].mean())\n",
    "   "
   ]
  },
  {
   "cell_type": "code",
   "execution_count": 8,
   "metadata": {
    "execution": {
     "iopub.execute_input": "2020-09-12T16:28:42.006315Z",
     "iopub.status.busy": "2020-09-12T16:28:42.003881Z",
     "iopub.status.idle": "2020-09-12T16:28:42.011364Z",
     "shell.execute_reply": "2020-09-12T16:28:42.010697Z"
    },
    "papermill": {
     "duration": 0.044758,
     "end_time": "2020-09-12T16:28:42.011505",
     "exception": false,
     "start_time": "2020-09-12T16:28:41.966747",
     "status": "completed"
    },
    "tags": []
   },
   "outputs": [
    {
     "data": {
      "text/plain": [
       "type                    0\n",
       "fixed acidity           0\n",
       "volatile acidity        0\n",
       "citric acid             0\n",
       "residual sugar          0\n",
       "chlorides               0\n",
       "free sulfur dioxide     0\n",
       "total sulfur dioxide    0\n",
       "density                 0\n",
       "pH                      0\n",
       "sulphates               0\n",
       "alcohol                 0\n",
       "quality                 0\n",
       "dtype: int64"
      ]
     },
     "execution_count": 8,
     "metadata": {},
     "output_type": "execute_result"
    }
   ],
   "source": [
    "wine1.isnull().sum()"
   ]
  },
  {
   "cell_type": "code",
   "execution_count": 9,
   "metadata": {
    "execution": {
     "iopub.execute_input": "2020-09-12T16:28:42.078722Z",
     "iopub.status.busy": "2020-09-12T16:28:42.078073Z",
     "iopub.status.idle": "2020-09-12T16:28:43.019579Z",
     "shell.execute_reply": "2020-09-12T16:28:43.019022Z"
    },
    "papermill": {
     "duration": 0.977667,
     "end_time": "2020-09-12T16:28:43.019713",
     "exception": false,
     "start_time": "2020-09-12T16:28:42.042046",
     "status": "completed"
    },
    "tags": []
   },
   "outputs": [
    {
     "name": "stderr",
     "output_type": "stream",
     "text": [
      "/opt/conda/lib/python3.7/site-packages/pandas/core/indexing.py:670: SettingWithCopyWarning: \n",
      "A value is trying to be set on a copy of a slice from a DataFrame\n",
      "\n",
      "See the caveats in the documentation: https://pandas.pydata.org/pandas-docs/stable/user_guide/indexing.html#returning-a-view-versus-a-copy\n",
      "  iloc._setitem_with_indexer(indexer, value)\n"
     ]
    }
   ],
   "source": [
    "for i in range(6497):\n",
    "    if wine1[\"quality\"].loc[i]>6:\n",
    "            wine1[\"quality\"].loc[i]=1\n",
    "    else:\n",
    "            wine1[\"quality\"].loc[i]=0"
   ]
  },
  {
   "cell_type": "code",
   "execution_count": 10,
   "metadata": {
    "execution": {
     "iopub.execute_input": "2020-09-12T16:28:43.090195Z",
     "iopub.status.busy": "2020-09-12T16:28:43.089204Z",
     "iopub.status.idle": "2020-09-12T16:28:43.093573Z",
     "shell.execute_reply": "2020-09-12T16:28:43.092934Z"
    },
    "papermill": {
     "duration": 0.042195,
     "end_time": "2020-09-12T16:28:43.093690",
     "exception": false,
     "start_time": "2020-09-12T16:28:43.051495",
     "status": "completed"
    },
    "tags": []
   },
   "outputs": [
    {
     "data": {
      "text/plain": [
       "0    5220\n",
       "1    1277\n",
       "Name: quality, dtype: int64"
      ]
     },
     "execution_count": 10,
     "metadata": {},
     "output_type": "execute_result"
    }
   ],
   "source": [
    "wine1[\"quality\"].value_counts()"
   ]
  },
  {
   "cell_type": "code",
   "execution_count": 11,
   "metadata": {
    "execution": {
     "iopub.execute_input": "2020-09-12T16:28:43.163385Z",
     "iopub.status.busy": "2020-09-12T16:28:43.162761Z",
     "iopub.status.idle": "2020-09-12T16:28:44.456629Z",
     "shell.execute_reply": "2020-09-12T16:28:44.457076Z"
    },
    "papermill": {
     "duration": 1.331527,
     "end_time": "2020-09-12T16:28:44.457225",
     "exception": false,
     "start_time": "2020-09-12T16:28:43.125698",
     "status": "completed"
    },
    "tags": []
   },
   "outputs": [
    {
     "data": {
      "image/png": "[encoded data removed]",
      "text/plain": [
       "<Figure size 432x288 with 1 Axes>"
      ]
     },
     "metadata": {
      "needs_background": "light"
     },
     "output_type": "display_data"
    },
    {
     "data": {
      "image/png": "[encoded data removed]",
      "text/plain": [
       "<Figure size 432x288 with 1 Axes>"
      ]
     },
     "metadata": {
      "needs_background": "light"
     },
     "output_type": "display_data"
    },
    {
     "data": {
      "image/png": "[encoded data removed]",
      "text/plain": [
       "<Figure size 432x288 with 1 Axes>"
      ]
     },
     "metadata": {
      "needs_background": "light"
     },
     "output_type": "display_data"
    },
    {
     "data": {
      "image/png": "[encoded data removed]",
      "text/plain": [
       "<Figure size 432x288 with 1 Axes>"
      ]
     },
     "metadata": {
      "needs_background": "light"
     },
     "output_type": "display_data"
    },
    {
     "data": {
      "image/png": "[encoded data removed]",
      "text/plain": [
       "<Figure size 432x288 with 1 Axes>"
      ]
     },
     "metadata": {
      "needs_background": "light"
     },
     "output_type": "display_data"
    },
    {
     "data": {
      "image/png": "[encoded data removed]",
      "text/plain": [
       "<Figure size 432x288 with 1 Axes>"
      ]
     },
     "metadata": {
      "needs_background": "light"
     },
     "output_type": "display_data"
    },
    {
     "data": {
      "image/png": "[encoded data removed]",
      "text/plain": [
       "<Figure size 432x288 with 1 Axes>"
      ]
     },
     "metadata": {
      "needs_background": "light"
     },
     "output_type": "display_data"
    },
    {
     "data": {
      "image/png": "[encoded data removed]",
      "text/plain": [
       "<Figure size 432x288 with 1 Axes>"
      ]
     },
     "metadata": {
      "needs_background": "light"
     },
     "output_type": "display_data"
    },
    {
     "data": {
      "image/png": "[encoded data removed]",
      "text/plain": [
       "<Figure size 432x288 with 1 Axes>"
      ]
     },
     "metadata": {
      "needs_background": "light"
     },
     "output_type": "display_data"
    },
    {
     "data": {
      "image/png": "[encoded data removed]",
      "text/plain": [
       "<Figure size 432x288 with 1 Axes>"
      ]
     },
     "metadata": {
      "needs_background": "light"
     },
     "output_type": "display_data"
    },
    {
     "data": {
      "image/png": "[encoded data removed]",
      "text/plain": [
       "<Figure size 432x288 with 1 Axes>"
      ]
     },
     "metadata": {
      "needs_background": "light"
     },
     "output_type": "display_data"
    }
   ],
   "source": [
    "for i in ['fixed acidity', 'volatile acidity', 'citric acid',\n",
    "       'residual sugar', 'chlorides', 'free sulfur dioxide',\n",
    "       'total sulfur dioxide', 'density', 'pH', 'sulphates', 'alcohol',\n",
    "       ]:\n",
    "    \n",
    "    sns.boxplot(wine1[i])\n",
    "    plt.show()"
   ]
  },
  {
   "cell_type": "code",
   "execution_count": 12,
   "metadata": {
    "execution": {
     "iopub.execute_input": "2020-09-12T16:28:44.555980Z",
     "iopub.status.busy": "2020-09-12T16:28:44.545544Z",
     "iopub.status.idle": "2020-09-12T16:28:45.536568Z",
     "shell.execute_reply": "2020-09-12T16:28:45.535856Z"
    },
    "papermill": {
     "duration": 1.042054,
     "end_time": "2020-09-12T16:28:45.536690",
     "exception": false,
     "start_time": "2020-09-12T16:28:44.494636",
     "status": "completed"
    },
    "tags": []
   },
   "outputs": [],
   "source": [
    "d=[]\n",
    "q={0:'fixed acidity', \n",
    "   1:'volatile acidity', \n",
    "   2:'citric acid',\n",
    "  3:'residual sugar', \n",
    "   4:'chlorides', \n",
    "   5:'free sulfur dioxide',\n",
    "    6:'total sulfur dioxide', \n",
    "   7:'density', \n",
    "   8:'pH',\n",
    "   9:'sulphates', \n",
    "   10:'alcohol',\n",
    "       }\n",
    "for x,y in q.items():\n",
    "    if x==0:\n",
    "        for i in range(6497):\n",
    "             if wine1[y].loc[i]>14:\n",
    "                    d.append(i)\n",
    "    if x==1:\n",
    "        for i in range(6497):\n",
    "             if wine1[y].loc[i]>1.2:\n",
    "                    d.append(i)\n",
    "    if x==2:\n",
    "        for i in range(6497):\n",
    "             if wine1[y].loc[i]>1:\n",
    "                    d.append(i)\n",
    "    if x==3:\n",
    "        for i in range(6497):\n",
    "             if wine1[y].loc[i]>25:\n",
    "                    d.append(i)\n",
    "    if x==4:\n",
    "        for i in range(6497):\n",
    "             if wine1[y].loc[i]>0.4:\n",
    "                    d.append(i)\n",
    "    if x==5:\n",
    "        for i in range(6497):\n",
    "             if wine1[y].loc[i]>140:\n",
    "                    d.append(i)\n",
    "    if x==6:\n",
    "        for i in range(6497):\n",
    "             if wine1[y].loc[i]>310:\n",
    "                    d.append(i)\n",
    "    if x==7:\n",
    "        for i in range(6497):\n",
    "             if wine1[y].loc[i]>1.01:\n",
    "                    d.append(i)\n",
    "    if x==8:\n",
    "        for i in range(6497):\n",
    "             if wine1[y].loc[i]>3.8:\n",
    "                    d.append(i)\n",
    "    if x==9:\n",
    "        for i in range(6497):\n",
    "             if wine1[y].loc[i]>1.50:\n",
    "                    d.append(i)\n",
    "    if x==10:\n",
    "        for i in range(6497):\n",
    "             if wine1[y].loc[i]>14:\n",
    "                    d.append(i)\n",
    "        \n",
    "        "
   ]
  },
  {
   "cell_type": "code",
   "execution_count": 13,
   "metadata": {
    "execution": {
     "iopub.execute_input": "2020-09-12T16:28:45.617077Z",
     "iopub.status.busy": "2020-09-12T16:28:45.616213Z",
     "iopub.status.idle": "2020-09-12T16:28:45.620889Z",
     "shell.execute_reply": "2020-09-12T16:28:45.620257Z"
    },
    "papermill": {
     "duration": 0.047155,
     "end_time": "2020-09-12T16:28:45.621003",
     "exception": false,
     "start_time": "2020-09-12T16:28:45.573848",
     "status": "completed"
    },
    "tags": []
   },
   "outputs": [
    {
     "data": {
      "text/plain": [
       "[1526,\n",
       " 5141,\n",
       " 5142,\n",
       " 5340,\n",
       " 5442,\n",
       " 5452,\n",
       " 5453,\n",
       " 5455,\n",
       " 5550,\n",
       " 5024,\n",
       " 5025,\n",
       " 5570,\n",
       " 6197,\n",
       " 745,\n",
       " 3152,\n",
       " 1653,\n",
       " 1663,\n",
       " 2781,\n",
       " 3619,\n",
       " 3623,\n",
       " 4979,\n",
       " 4981,\n",
       " 5004,\n",
       " 5049,\n",
       " 5156,\n",
       " 5349,\n",
       " 5590,\n",
       " 5652,\n",
       " 5949,\n",
       " 6158,\n",
       " 6217,\n",
       " 6268,\n",
       " 6270,\n",
       " 1931,\n",
       " 4745,\n",
       " 325,\n",
       " 1417,\n",
       " 2127,\n",
       " 4745,\n",
       " 1653,\n",
       " 1663,\n",
       " 2781,\n",
       " 1250,\n",
       " 1255,\n",
       " 4943,\n",
       " 4993,\n",
       " 5593,\n",
       " 6214,\n",
       " 6219,\n",
       " 4911,\n",
       " 4984,\n",
       " 4989,\n",
       " 4990,\n",
       " 5049,\n",
       " 5067,\n",
       " 5124,\n",
       " 5621,\n",
       " 3918,\n",
       " 4503,\n",
       " 5550]"
      ]
     },
     "execution_count": 13,
     "metadata": {},
     "output_type": "execute_result"
    }
   ],
   "source": [
    "d"
   ]
  },
  {
   "cell_type": "code",
   "execution_count": 14,
   "metadata": {
    "execution": {
     "iopub.execute_input": "2020-09-12T16:28:45.705160Z",
     "iopub.status.busy": "2020-09-12T16:28:45.704205Z",
     "iopub.status.idle": "2020-09-12T16:28:45.708749Z",
     "shell.execute_reply": "2020-09-12T16:28:45.709249Z"
    },
    "papermill": {
     "duration": 0.050687,
     "end_time": "2020-09-12T16:28:45.709388",
     "exception": false,
     "start_time": "2020-09-12T16:28:45.658701",
     "status": "completed"
    },
    "tags": []
   },
   "outputs": [],
   "source": [
    "wine1.drop([1526, 5141, 5142, 5340, 5442, 5452, 5453, 5455, 5550, 5024, 5025, 5570, 6197, 745, 3152, 1653, 1663, 2781, 3619, 3623, 4979, 4981, 5004, 5049, 5156, 5349, 5590, 5652, 5949, 6158, 6217, 6268, 6270, 1931, 4745, 325, 1417, 2127, 4745, 1653, 1663, 2781, 1250, 1255, 4943, 4993, 5593, 6214, 6219, 4911, 4984, 4989, 4990, 5049, 5067, 5124, 5621, 3918, 4503, 5550],inplace=True)"
   ]
  },
  {
   "cell_type": "code",
   "execution_count": 15,
   "metadata": {
    "execution": {
     "iopub.execute_input": "2020-09-12T16:28:45.793339Z",
     "iopub.status.busy": "2020-09-12T16:28:45.792593Z",
     "iopub.status.idle": "2020-09-12T16:28:45.795784Z",
     "shell.execute_reply": "2020-09-12T16:28:45.795279Z"
    },
    "papermill": {
     "duration": 0.048314,
     "end_time": "2020-09-12T16:28:45.795899",
     "exception": false,
     "start_time": "2020-09-12T16:28:45.747585",
     "status": "completed"
    },
    "tags": []
   },
   "outputs": [],
   "source": [
    "wine1.drop(\"type\",axis=1,inplace=True)"
   ]
  },
  {
   "cell_type": "code",
   "execution_count": 16,
   "metadata": {
    "execution": {
     "iopub.execute_input": "2020-09-12T16:28:45.877988Z",
     "iopub.status.busy": "2020-09-12T16:28:45.877210Z",
     "iopub.status.idle": "2020-09-12T16:28:45.882021Z",
     "shell.execute_reply": "2020-09-12T16:28:45.881331Z"
    },
    "papermill": {
     "duration": 0.04735,
     "end_time": "2020-09-12T16:28:45.882129",
     "exception": false,
     "start_time": "2020-09-12T16:28:45.834779",
     "status": "completed"
    },
    "tags": []
   },
   "outputs": [
    {
     "data": {
      "text/plain": [
       "(6443, 12)"
      ]
     },
     "execution_count": 16,
     "metadata": {},
     "output_type": "execute_result"
    }
   ],
   "source": [
    "wine1.shape"
   ]
  },
  {
   "cell_type": "code",
   "execution_count": 17,
   "metadata": {
    "execution": {
     "iopub.execute_input": "2020-09-12T16:28:45.968361Z",
     "iopub.status.busy": "2020-09-12T16:28:45.967714Z",
     "iopub.status.idle": "2020-09-12T16:28:46.854612Z",
     "shell.execute_reply": "2020-09-12T16:28:46.854061Z"
    },
    "papermill": {
     "duration": 0.933897,
     "end_time": "2020-09-12T16:28:46.854730",
     "exception": false,
     "start_time": "2020-09-12T16:28:45.920833",
     "status": "completed"
    },
    "tags": []
   },
   "outputs": [
    {
     "data": {
      "image/png": "[encoded data removed]",
      "text/plain": [
       "<Figure size 432x288 with 1 Axes>"
      ]
     },
     "metadata": {
      "needs_background": "light"
     },
     "output_type": "display_data"
    }
   ],
   "source": [
    "X=wine1.iloc[:,0:9]\n",
    "y=wine1.iloc[:,-1]\n",
    "m=ExtraTreesClassifier()\n",
    "m.fit(X,y)\n",
    "ft=pd.Series(m.feature_importances_,index=X.columns)\n",
    "ft.plot(kind='barh')\n",
    "plt.show()"
   ]
  },
  {
   "cell_type": "code",
   "execution_count": 18,
   "metadata": {
    "execution": {
     "iopub.execute_input": "2020-09-12T16:28:46.940991Z",
     "iopub.status.busy": "2020-09-12T16:28:46.940293Z",
     "iopub.status.idle": "2020-09-12T16:28:47.662479Z",
     "shell.execute_reply": "2020-09-12T16:28:47.663015Z"
    },
    "papermill": {
     "duration": 0.768925,
     "end_time": "2020-09-12T16:28:47.663171",
     "exception": false,
     "start_time": "2020-09-12T16:28:46.894246",
     "status": "completed"
    },
    "tags": []
   },
   "outputs": [
    {
     "data": {
      "text/plain": [
       "<matplotlib.axes._subplots.AxesSubplot at 0x7fb9ca6d31d0>"
      ]
     },
     "execution_count": 18,
     "metadata": {},
     "output_type": "execute_result"
    },
    {
     "data": {
      "image/png": "[encoded data removed]",
      "text/plain": [
       "<Figure size 720x360 with 2 Axes>"
      ]
     },
     "metadata": {
      "needs_background": "light"
     },
     "output_type": "display_data"
    }
   ],
   "source": [
    "c=wine1.corr()\n",
    "tcf=c.index\n",
    "plt.figure(figsize=(10,5))\n",
    "sns.heatmap(wine1[tcf].corr(),annot=True,cmap=\"RdYlGn\")"
   ]
  },
  {
   "cell_type": "code",
   "execution_count": 19,
   "metadata": {
    "execution": {
     "iopub.execute_input": "2020-09-12T16:28:47.754022Z",
     "iopub.status.busy": "2020-09-12T16:28:47.753267Z",
     "iopub.status.idle": "2020-09-12T16:28:47.756358Z",
     "shell.execute_reply": "2020-09-12T16:28:47.755758Z"
    },
    "papermill": {
     "duration": 0.051273,
     "end_time": "2020-09-12T16:28:47.756507",
     "exception": false,
     "start_time": "2020-09-12T16:28:47.705234",
     "status": "completed"
    },
    "tags": []
   },
   "outputs": [],
   "source": [
    "wine1.drop([\"free sulfur dioxide\",\"pH\"],axis=1,inplace=True)"
   ]
  },
  {
   "cell_type": "code",
   "execution_count": 20,
   "metadata": {
    "execution": {
     "iopub.execute_input": "2020-09-12T16:28:47.847157Z",
     "iopub.status.busy": "2020-09-12T16:28:47.846375Z",
     "iopub.status.idle": "2020-09-12T16:28:47.931227Z",
     "shell.execute_reply": "2020-09-12T16:28:47.930577Z"
    },
    "papermill": {
     "duration": 0.132438,
     "end_time": "2020-09-12T16:28:47.931339",
     "exception": false,
     "start_time": "2020-09-12T16:28:47.798901",
     "status": "completed"
    },
    "tags": []
   },
   "outputs": [],
   "source": [
    "bala=SMOTETomek(random_state=42)\n",
    "X_bal,y_bal=bala.fit_sample(X,y)"
   ]
  },
  {
   "cell_type": "code",
   "execution_count": 21,
   "metadata": {
    "execution": {
     "iopub.execute_input": "2020-09-12T16:28:48.025825Z",
     "iopub.status.busy": "2020-09-12T16:28:48.024942Z",
     "iopub.status.idle": "2020-09-12T16:28:48.028707Z",
     "shell.execute_reply": "2020-09-12T16:28:48.028080Z"
    },
    "papermill": {
     "duration": 0.05464,
     "end_time": "2020-09-12T16:28:48.028820",
     "exception": false,
     "start_time": "2020-09-12T16:28:47.974180",
     "status": "completed"
    },
    "tags": []
   },
   "outputs": [
    {
     "name": "stdout",
     "output_type": "stream",
     "text": [
      "originalCounter({0: 5172, 1: 1271})\n",
      "resampledCounter({0: 5061, 1: 5061})\n"
     ]
    }
   ],
   "source": [
    "from collections import Counter\n",
    "print('original{}'.format(Counter(y)))\n",
    "print('resampled{}'.format(Counter(y_bal)))"
   ]
  },
  {
   "cell_type": "code",
   "execution_count": 22,
   "metadata": {
    "execution": {
     "iopub.execute_input": "2020-09-12T16:28:48.119905Z",
     "iopub.status.busy": "2020-09-12T16:28:48.119222Z",
     "iopub.status.idle": "2020-09-12T16:28:48.121857Z",
     "shell.execute_reply": "2020-09-12T16:28:48.122352Z"
    },
    "papermill": {
     "duration": 0.050743,
     "end_time": "2020-09-12T16:28:48.122530",
     "exception": false,
     "start_time": "2020-09-12T16:28:48.071787",
     "status": "completed"
    },
    "tags": []
   },
   "outputs": [],
   "source": [
    "from sklearn.preprocessing import StandardScaler"
   ]
  },
  {
   "cell_type": "code",
   "execution_count": 23,
   "metadata": {
    "execution": {
     "iopub.execute_input": "2020-09-12T16:28:48.216225Z",
     "iopub.status.busy": "2020-09-12T16:28:48.215566Z",
     "iopub.status.idle": "2020-09-12T16:28:48.223568Z",
     "shell.execute_reply": "2020-09-12T16:28:48.222961Z"
    },
    "papermill": {
     "duration": 0.058078,
     "end_time": "2020-09-12T16:28:48.223687",
     "exception": false,
     "start_time": "2020-09-12T16:28:48.165609",
     "status": "completed"
    },
    "tags": []
   },
   "outputs": [],
   "source": [
    "scaler=StandardScaler()\n",
    "features=scaler.fit_transform(X_bal)"
   ]
  },
  {
   "cell_type": "code",
   "execution_count": 24,
   "metadata": {
    "execution": {
     "iopub.execute_input": "2020-09-12T16:28:48.317115Z",
     "iopub.status.busy": "2020-09-12T16:28:48.316129Z",
     "iopub.status.idle": "2020-09-12T16:28:48.320026Z",
     "shell.execute_reply": "2020-09-12T16:28:48.319463Z"
    },
    "papermill": {
     "duration": 0.051382,
     "end_time": "2020-09-12T16:28:48.320144",
     "exception": false,
     "start_time": "2020-09-12T16:28:48.268762",
     "status": "completed"
    },
    "tags": []
   },
   "outputs": [],
   "source": [
    "label=y_bal"
   ]
  },
  {
   "cell_type": "code",
   "execution_count": 25,
   "metadata": {
    "execution": {
     "iopub.execute_input": "2020-09-12T16:28:48.413753Z",
     "iopub.status.busy": "2020-09-12T16:28:48.413081Z",
     "iopub.status.idle": "2020-09-12T16:28:48.417985Z",
     "shell.execute_reply": "2020-09-12T16:28:48.418467Z"
    },
    "papermill": {
     "duration": 0.055045,
     "end_time": "2020-09-12T16:28:48.418638",
     "exception": false,
     "start_time": "2020-09-12T16:28:48.363593",
     "status": "completed"
    },
    "tags": []
   },
   "outputs": [],
   "source": [
    "from sklearn.model_selection import train_test_split\n",
    "import numpy\n",
    "numpy.random.seed(1234)\n",
    "(x_train,x_test,y_train,y_test) = train_test_split(features,label, train_size=0.75, random_state=42)"
   ]
  },
  {
   "cell_type": "code",
   "execution_count": 26,
   "metadata": {
    "execution": {
     "iopub.execute_input": "2020-09-12T16:28:48.510467Z",
     "iopub.status.busy": "2020-09-12T16:28:48.509679Z",
     "iopub.status.idle": "2020-09-12T16:28:48.512534Z",
     "shell.execute_reply": "2020-09-12T16:28:48.511927Z"
    },
    "papermill": {
     "duration": 0.050633,
     "end_time": "2020-09-12T16:28:48.512647",
     "exception": false,
     "start_time": "2020-09-12T16:28:48.462014",
     "status": "completed"
    },
    "tags": []
   },
   "outputs": [],
   "source": [
    "from sklearn import svm\n",
    "clf = svm.SVC(kernel='linear', C=1)"
   ]
  },
  {
   "cell_type": "code",
   "execution_count": 27,
   "metadata": {
    "execution": {
     "iopub.execute_input": "2020-09-12T16:28:48.605914Z",
     "iopub.status.busy": "2020-09-12T16:28:48.605212Z",
     "iopub.status.idle": "2020-09-12T16:28:51.407681Z",
     "shell.execute_reply": "2020-09-12T16:28:51.408168Z"
    },
    "papermill": {
     "duration": 2.852726,
     "end_time": "2020-09-12T16:28:51.408325",
     "exception": false,
     "start_time": "2020-09-12T16:28:48.555599",
     "status": "completed"
    },
    "tags": []
   },
   "outputs": [
    {
     "data": {
      "text/plain": [
       "SVC(C=1, kernel='linear')"
      ]
     },
     "execution_count": 27,
     "metadata": {},
     "output_type": "execute_result"
    }
   ],
   "source": [
    "clf.fit(x_train,y_train)"
   ]
  },
  {
   "cell_type": "code",
   "execution_count": 28,
   "metadata": {
    "execution": {
     "iopub.execute_input": "2020-09-12T16:28:51.505191Z",
     "iopub.status.busy": "2020-09-12T16:28:51.504377Z",
     "iopub.status.idle": "2020-09-12T16:28:51.642824Z",
     "shell.execute_reply": "2020-09-12T16:28:51.642194Z"
    },
    "papermill": {
     "duration": 0.189406,
     "end_time": "2020-09-12T16:28:51.642950",
     "exception": false,
     "start_time": "2020-09-12T16:28:51.453544",
     "status": "completed"
    },
    "tags": []
   },
   "outputs": [
    {
     "data": {
      "text/plain": [
       "0.7388384037929672"
      ]
     },
     "execution_count": 28,
     "metadata": {},
     "output_type": "execute_result"
    }
   ],
   "source": [
    "clf.score(x_test,y_test)"
   ]
  },
  {
   "cell_type": "code",
   "execution_count": 29,
   "metadata": {
    "execution": {
     "iopub.execute_input": "2020-09-12T16:28:51.742126Z",
     "iopub.status.busy": "2020-09-12T16:28:51.741333Z",
     "iopub.status.idle": "2020-09-12T16:28:51.915574Z",
     "shell.execute_reply": "2020-09-12T16:28:51.914580Z"
    },
    "papermill": {
     "duration": 0.227378,
     "end_time": "2020-09-12T16:28:51.915744",
     "exception": false,
     "start_time": "2020-09-12T16:28:51.688366",
     "status": "completed"
    },
    "tags": []
   },
   "outputs": [],
   "source": [
    "y_pred =clf.predict(x_test)"
   ]
  },
  {
   "cell_type": "code",
   "execution_count": 30,
   "metadata": {
    "execution": {
     "iopub.execute_input": "2020-09-12T16:28:52.024331Z",
     "iopub.status.busy": "2020-09-12T16:28:52.023216Z",
     "iopub.status.idle": "2020-09-12T16:28:52.034573Z",
     "shell.execute_reply": "2020-09-12T16:28:52.033888Z"
    },
    "papermill": {
     "duration": 0.067603,
     "end_time": "2020-09-12T16:28:52.034708",
     "exception": false,
     "start_time": "2020-09-12T16:28:51.967105",
     "status": "completed"
    },
    "tags": []
   },
   "outputs": [
    {
     "data": {
      "text/plain": [
       "array([[ 868,  395],\n",
       "       [ 266, 1002]])"
      ]
     },
     "execution_count": 30,
     "metadata": {},
     "output_type": "execute_result"
    }
   ],
   "source": [
    "cm = confusion_matrix(y_test, y_pred)\n",
    "cm"
   ]
  },
  {
   "cell_type": "code",
   "execution_count": 31,
   "metadata": {
    "execution": {
     "iopub.execute_input": "2020-09-12T16:28:52.134388Z",
     "iopub.status.busy": "2020-09-12T16:28:52.133253Z",
     "iopub.status.idle": "2020-09-12T16:28:52.146979Z",
     "shell.execute_reply": "2020-09-12T16:28:52.146183Z"
    },
    "papermill": {
     "duration": 0.064412,
     "end_time": "2020-09-12T16:28:52.147143",
     "exception": false,
     "start_time": "2020-09-12T16:28:52.082731",
     "status": "completed"
    },
    "tags": []
   },
   "outputs": [
    {
     "name": "stdout",
     "output_type": "stream",
     "text": [
      "              precision    recall  f1-score   support\n",
      "\n",
      "           0       0.77      0.69      0.72      1263\n",
      "           1       0.72      0.79      0.75      1268\n",
      "\n",
      "    accuracy                           0.74      2531\n",
      "   macro avg       0.74      0.74      0.74      2531\n",
      "weighted avg       0.74      0.74      0.74      2531\n",
      "\n"
     ]
    }
   ],
   "source": [
    "print(classification_report(y_test, y_pred))"
   ]
  },
  {
   "cell_type": "code",
   "execution_count": 32,
   "metadata": {
    "execution": {
     "iopub.execute_input": "2020-09-12T16:28:52.246577Z",
     "iopub.status.busy": "2020-09-12T16:28:52.245860Z",
     "iopub.status.idle": "2020-09-12T16:29:34.663348Z",
     "shell.execute_reply": "2020-09-12T16:29:34.663884Z"
    },
    "papermill": {
     "duration": 42.469487,
     "end_time": "2020-09-12T16:29:34.664051",
     "exception": false,
     "start_time": "2020-09-12T16:28:52.194564",
     "status": "completed"
    },
    "tags": []
   },
   "outputs": [
    {
     "data": {
      "text/plain": [
       "0.7241556407024883"
      ]
     },
     "execution_count": 32,
     "metadata": {},
     "output_type": "execute_result"
    }
   ],
   "source": [
    " cross_val_score(clf, features, label, cv=10).mean()"
   ]
  },
  {
   "cell_type": "code",
   "execution_count": 33,
   "metadata": {
    "execution": {
     "iopub.execute_input": "2020-09-12T16:29:34.761032Z",
     "iopub.status.busy": "2020-09-12T16:29:34.760322Z",
     "iopub.status.idle": "2020-09-12T16:29:34.838032Z",
     "shell.execute_reply": "2020-09-12T16:29:34.837321Z"
    },
    "papermill": {
     "duration": 0.12854,
     "end_time": "2020-09-12T16:29:34.838152",
     "exception": false,
     "start_time": "2020-09-12T16:29:34.709612",
     "status": "completed"
    },
    "tags": []
   },
   "outputs": [
    {
     "data": {
      "text/plain": [
       "DecisionTreeClassifier(random_state=1)"
      ]
     },
     "execution_count": 33,
     "metadata": {},
     "output_type": "execute_result"
    }
   ],
   "source": [
    "from sklearn.tree import DecisionTreeClassifier\n",
    "\n",
    "clf= DecisionTreeClassifier(random_state=1)\n",
    "\n",
    "# Train the classifier on the training set\n",
    "clf.fit(x_train,y_train)\n"
   ]
  },
  {
   "cell_type": "code",
   "execution_count": 34,
   "metadata": {
    "execution": {
     "iopub.execute_input": "2020-09-12T16:29:34.936132Z",
     "iopub.status.busy": "2020-09-12T16:29:34.935181Z",
     "iopub.status.idle": "2020-09-12T16:29:34.941804Z",
     "shell.execute_reply": "2020-09-12T16:29:34.941229Z"
    },
    "papermill": {
     "duration": 0.057547,
     "end_time": "2020-09-12T16:29:34.941923",
     "exception": false,
     "start_time": "2020-09-12T16:29:34.884376",
     "status": "completed"
    },
    "tags": []
   },
   "outputs": [
    {
     "data": {
      "text/plain": [
       "0.8569735282497036"
      ]
     },
     "execution_count": 34,
     "metadata": {},
     "output_type": "execute_result"
    }
   ],
   "source": [
    "clf.score(x_test,y_test)"
   ]
  },
  {
   "cell_type": "code",
   "execution_count": 35,
   "metadata": {
    "execution": {
     "iopub.execute_input": "2020-09-12T16:29:35.044724Z",
     "iopub.status.busy": "2020-09-12T16:29:35.044005Z",
     "iopub.status.idle": "2020-09-12T16:29:35.941608Z",
     "shell.execute_reply": "2020-09-12T16:29:35.941055Z"
    },
    "papermill": {
     "duration": 0.953593,
     "end_time": "2020-09-12T16:29:35.941737",
     "exception": false,
     "start_time": "2020-09-12T16:29:34.988144",
     "status": "completed"
    },
    "tags": []
   },
   "outputs": [],
   "source": [
    "scores = cross_val_score(clf, features, label, cv=10)"
   ]
  },
  {
   "cell_type": "code",
   "execution_count": 36,
   "metadata": {
    "execution": {
     "iopub.execute_input": "2020-09-12T16:29:36.042198Z",
     "iopub.status.busy": "2020-09-12T16:29:36.041205Z",
     "iopub.status.idle": "2020-09-12T16:29:36.045608Z",
     "shell.execute_reply": "2020-09-12T16:29:36.045102Z"
    },
    "papermill": {
     "duration": 0.057622,
     "end_time": "2020-09-12T16:29:36.045729",
     "exception": false,
     "start_time": "2020-09-12T16:29:35.988107",
     "status": "completed"
    },
    "tags": []
   },
   "outputs": [
    {
     "data": {
      "text/plain": [
       "array([0.76900296, 0.78973346, 0.80039526, 0.85968379, 0.80533597,\n",
       "       0.81126482, 0.77667984, 0.84387352, 0.84387352, 0.83201581])"
      ]
     },
     "execution_count": 36,
     "metadata": {},
     "output_type": "execute_result"
    }
   ],
   "source": [
    "scores"
   ]
  },
  {
   "cell_type": "code",
   "execution_count": 37,
   "metadata": {
    "execution": {
     "iopub.execute_input": "2020-09-12T16:29:36.145363Z",
     "iopub.status.busy": "2020-09-12T16:29:36.144460Z",
     "iopub.status.idle": "2020-09-12T16:29:36.148809Z",
     "shell.execute_reply": "2020-09-12T16:29:36.148188Z"
    },
    "papermill": {
     "duration": 0.056699,
     "end_time": "2020-09-12T16:29:36.148919",
     "exception": false,
     "start_time": "2020-09-12T16:29:36.092220",
     "status": "completed"
    },
    "tags": []
   },
   "outputs": [
    {
     "data": {
      "text/plain": [
       "0.8131858956100342"
      ]
     },
     "execution_count": 37,
     "metadata": {},
     "output_type": "execute_result"
    }
   ],
   "source": [
    "scores.mean()"
   ]
  },
  {
   "cell_type": "code",
   "execution_count": 38,
   "metadata": {
    "execution": {
     "iopub.execute_input": "2020-09-12T16:29:36.249866Z",
     "iopub.status.busy": "2020-09-12T16:29:36.249160Z",
     "iopub.status.idle": "2020-09-12T16:29:36.252298Z",
     "shell.execute_reply": "2020-09-12T16:29:36.251701Z"
    },
    "papermill": {
     "duration": 0.05618,
     "end_time": "2020-09-12T16:29:36.252405",
     "exception": false,
     "start_time": "2020-09-12T16:29:36.196225",
     "status": "completed"
    },
    "tags": []
   },
   "outputs": [],
   "source": [
    "params = {'max_leaf_nodes': list(range(2, 100)), 'min_samples_split': [2, 3, 4]}\n",
    "grid_search_cv = GridSearchCV(clf, params, verbose=1, cv=3)"
   ]
  },
  {
   "cell_type": "code",
   "execution_count": 39,
   "metadata": {
    "execution": {
     "iopub.execute_input": "2020-09-12T16:29:36.354740Z",
     "iopub.status.busy": "2020-09-12T16:29:36.352974Z",
     "iopub.status.idle": "2020-09-12T16:30:01.526180Z",
     "shell.execute_reply": "2020-09-12T16:30:01.525688Z"
    },
    "papermill": {
     "duration": 25.225143,
     "end_time": "2020-09-12T16:30:01.526295",
     "exception": false,
     "start_time": "2020-09-12T16:29:36.301152",
     "status": "completed"
    },
    "tags": []
   },
   "outputs": [
    {
     "name": "stdout",
     "output_type": "stream",
     "text": [
      "Fitting 3 folds for each of 294 candidates, totalling 882 fits\n"
     ]
    },
    {
     "name": "stderr",
     "output_type": "stream",
     "text": [
      "[Parallel(n_jobs=1)]: Using backend SequentialBackend with 1 concurrent workers.\n",
      "[Parallel(n_jobs=1)]: Done 882 out of 882 | elapsed:   25.1s finished\n"
     ]
    },
    {
     "data": {
      "text/plain": [
       "GridSearchCV(cv=3, estimator=DecisionTreeClassifier(random_state=1),\n",
       "             param_grid={'max_leaf_nodes': [2, 3, 4, 5, 6, 7, 8, 9, 10, 11, 12,\n",
       "                                            13, 14, 15, 16, 17, 18, 19, 20, 21,\n",
       "                                            22, 23, 24, 25, 26, 27, 28, 29, 30,\n",
       "                                            31, ...],\n",
       "                         'min_samples_split': [2, 3, 4]},\n",
       "             verbose=1)"
      ]
     },
     "execution_count": 39,
     "metadata": {},
     "output_type": "execute_result"
    }
   ],
   "source": [
    "grid_search_cv.fit(x_train,y_train)"
   ]
  },
  {
   "cell_type": "code",
   "execution_count": 40,
   "metadata": {
    "execution": {
     "iopub.execute_input": "2020-09-12T16:30:01.634951Z",
     "iopub.status.busy": "2020-09-12T16:30:01.633901Z",
     "iopub.status.idle": "2020-09-12T16:30:01.638222Z",
     "shell.execute_reply": "2020-09-12T16:30:01.637733Z"
    },
    "papermill": {
     "duration": 0.060429,
     "end_time": "2020-09-12T16:30:01.638346",
     "exception": false,
     "start_time": "2020-09-12T16:30:01.577917",
     "status": "completed"
    },
    "tags": []
   },
   "outputs": [
    {
     "data": {
      "text/plain": [
       "DecisionTreeClassifier(max_leaf_nodes=99, random_state=1)"
      ]
     },
     "execution_count": 40,
     "metadata": {},
     "output_type": "execute_result"
    }
   ],
   "source": [
    "grid_search_cv.best_estimator_"
   ]
  },
  {
   "cell_type": "code",
   "execution_count": 41,
   "metadata": {
    "execution": {
     "iopub.execute_input": "2020-09-12T16:30:01.746999Z",
     "iopub.status.busy": "2020-09-12T16:30:01.746285Z",
     "iopub.status.idle": "2020-09-12T16:30:01.753447Z",
     "shell.execute_reply": "2020-09-12T16:30:01.752778Z"
    },
    "papermill": {
     "duration": 0.063478,
     "end_time": "2020-09-12T16:30:01.753574",
     "exception": false,
     "start_time": "2020-09-12T16:30:01.690096",
     "status": "completed"
    },
    "tags": []
   },
   "outputs": [
    {
     "data": {
      "text/plain": [
       "0.846265314187854"
      ]
     },
     "execution_count": 41,
     "metadata": {},
     "output_type": "execute_result"
    }
   ],
   "source": [
    "grid_search_cv.best_estimator_.score(x_train,y_train)"
   ]
  },
  {
   "cell_type": "code",
   "execution_count": 42,
   "metadata": {
    "execution": {
     "iopub.execute_input": "2020-09-12T16:30:01.862202Z",
     "iopub.status.busy": "2020-09-12T16:30:01.861176Z",
     "iopub.status.idle": "2020-09-12T16:30:04.147849Z",
     "shell.execute_reply": "2020-09-12T16:30:04.147260Z"
    },
    "papermill": {
     "duration": 2.344955,
     "end_time": "2020-09-12T16:30:04.147960",
     "exception": false,
     "start_time": "2020-09-12T16:30:01.803005",
     "status": "completed"
    },
    "tags": []
   },
   "outputs": [
    {
     "data": {
      "text/plain": [
       "0.8647549251040818"
      ]
     },
     "execution_count": 42,
     "metadata": {},
     "output_type": "execute_result"
    }
   ],
   "source": [
    "from sklearn.ensemble import RandomForestClassifier\n",
    "\n",
    "clf = RandomForestClassifier(n_estimators=10, random_state=1)\n",
    "cv_scores = cross_val_score(clf,features,label, cv=10)\n",
    "\n",
    "cv_scores.mean()"
   ]
  },
  {
   "cell_type": "code",
   "execution_count": 43,
   "metadata": {
    "execution": {
     "iopub.execute_input": "2020-09-12T16:30:04.254550Z",
     "iopub.status.busy": "2020-09-12T16:30:04.253784Z",
     "iopub.status.idle": "2020-09-12T16:30:04.256788Z",
     "shell.execute_reply": "2020-09-12T16:30:04.256169Z"
    },
    "papermill": {
     "duration": 0.058696,
     "end_time": "2020-09-12T16:30:04.256898",
     "exception": false,
     "start_time": "2020-09-12T16:30:04.198202",
     "status": "completed"
    },
    "tags": []
   },
   "outputs": [],
   "source": [
    "param_grid = {\n",
    "    'n_estimators': [200, 700],\n",
    "    'max_features': ['auto', 'sqrt', 'log2']\n",
    "}\n",
    "grid_search_cv = GridSearchCV(clf, param_grid, verbose=1, cv=3)"
   ]
  },
  {
   "cell_type": "code",
   "execution_count": 44,
   "metadata": {
    "execution": {
     "iopub.execute_input": "2020-09-12T16:30:04.365315Z",
     "iopub.status.busy": "2020-09-12T16:30:04.363874Z",
     "iopub.status.idle": "2020-09-12T16:32:01.754142Z",
     "shell.execute_reply": "2020-09-12T16:32:01.753610Z"
    },
    "papermill": {
     "duration": 117.444712,
     "end_time": "2020-09-12T16:32:01.754264",
     "exception": false,
     "start_time": "2020-09-12T16:30:04.309552",
     "status": "completed"
    },
    "tags": []
   },
   "outputs": [
    {
     "name": "stdout",
     "output_type": "stream",
     "text": [
      "Fitting 3 folds for each of 6 candidates, totalling 18 fits\n"
     ]
    },
    {
     "name": "stderr",
     "output_type": "stream",
     "text": [
      "[Parallel(n_jobs=1)]: Using backend SequentialBackend with 1 concurrent workers.\n",
      "[Parallel(n_jobs=1)]: Done  18 out of  18 | elapsed:  1.7min finished\n"
     ]
    },
    {
     "data": {
      "text/plain": [
       "GridSearchCV(cv=3,\n",
       "             estimator=RandomForestClassifier(n_estimators=10, random_state=1),\n",
       "             param_grid={'max_features': ['auto', 'sqrt', 'log2'],\n",
       "                         'n_estimators': [200, 700]},\n",
       "             verbose=1)"
      ]
     },
     "execution_count": 44,
     "metadata": {},
     "output_type": "execute_result"
    }
   ],
   "source": [
    "grid_search_cv.fit(x_train,y_train)"
   ]
  },
  {
   "cell_type": "code",
   "execution_count": 45,
   "metadata": {
    "execution": {
     "iopub.execute_input": "2020-09-12T16:32:01.912064Z",
     "iopub.status.busy": "2020-09-12T16:32:01.911383Z",
     "iopub.status.idle": "2020-09-12T16:32:02.274565Z",
     "shell.execute_reply": "2020-09-12T16:32:02.275067Z"
    },
    "papermill": {
     "duration": 0.468949,
     "end_time": "2020-09-12T16:32:02.275209",
     "exception": false,
     "start_time": "2020-09-12T16:32:01.806260",
     "status": "completed"
    },
    "tags": []
   },
   "outputs": [
    {
     "data": {
      "text/plain": [
       "0.9190043461082577"
      ]
     },
     "execution_count": 45,
     "metadata": {},
     "output_type": "execute_result"
    }
   ],
   "source": [
    "grid_search_cv.best_estimator_.score(x_test,y_test)"
   ]
  },
  {
   "cell_type": "code",
   "execution_count": 46,
   "metadata": {
    "execution": {
     "iopub.execute_input": "2020-09-12T16:32:02.385735Z",
     "iopub.status.busy": "2020-09-12T16:32:02.384769Z",
     "iopub.status.idle": "2020-09-12T16:32:03.297899Z",
     "shell.execute_reply": "2020-09-12T16:32:03.297232Z"
    },
    "papermill": {
     "duration": 0.970119,
     "end_time": "2020-09-12T16:32:03.298014",
     "exception": false,
     "start_time": "2020-09-12T16:32:02.327895",
     "status": "completed"
    },
    "tags": []
   },
   "outputs": [
    {
     "data": {
      "text/plain": [
       "0.7789946115518029"
      ]
     },
     "execution_count": 46,
     "metadata": {},
     "output_type": "execute_result"
    }
   ],
   "source": [
    "from sklearn import neighbors\n",
    "\n",
    "clf = neighbors.KNeighborsClassifier(n_neighbors=10)\n",
    "cv_scores = cross_val_score(clf, features, label, cv=10)\n",
    "\n",
    "cv_scores.mean()"
   ]
  },
  {
   "cell_type": "code",
   "execution_count": 47,
   "metadata": {
    "execution": {
     "iopub.execute_input": "2020-09-12T16:32:03.409490Z",
     "iopub.status.busy": "2020-09-12T16:32:03.408472Z",
     "iopub.status.idle": "2020-09-12T16:32:04.034969Z",
     "shell.execute_reply": "2020-09-12T16:32:04.034315Z"
    },
    "papermill": {
     "duration": 0.684371,
     "end_time": "2020-09-12T16:32:04.035082",
     "exception": false,
     "start_time": "2020-09-12T16:32:03.350711",
     "status": "completed"
    },
    "tags": []
   },
   "outputs": [
    {
     "data": {
      "text/plain": [
       "0.8428145570040073"
      ]
     },
     "execution_count": 47,
     "metadata": {},
     "output_type": "execute_result"
    }
   ],
   "source": [
    "\n",
    "clf = neighbors.KNeighborsClassifier(n_neighbors=1)\n",
    "cv_scores = cross_val_score(clf, features, label, cv=10)\n",
    "\n",
    "cv_scores.mean()"
   ]
  },
  {
   "cell_type": "code",
   "execution_count": 48,
   "metadata": {
    "execution": {
     "iopub.execute_input": "2020-09-12T16:32:04.150647Z",
     "iopub.status.busy": "2020-09-12T16:32:04.150008Z",
     "iopub.status.idle": "2020-09-12T16:32:57.402693Z",
     "shell.execute_reply": "2020-09-12T16:32:57.402034Z"
    },
    "papermill": {
     "duration": 53.313093,
     "end_time": "2020-09-12T16:32:57.402874",
     "exception": false,
     "start_time": "2020-09-12T16:32:04.089781",
     "status": "completed"
    },
    "tags": []
   },
   "outputs": [
    {
     "name": "stdout",
     "output_type": "stream",
     "text": [
      "1 0.8428145570040073\n",
      "2 0.8454813706401758\n",
      "3 0.8185121093765242\n",
      "4 0.8206867052429093\n",
      "5 0.7998396341629956\n",
      "6 0.8031007963666017\n",
      "7 0.7882802227173231\n",
      "8 0.7890724923816472\n",
      "9 0.7782037075332925\n",
      "10 0.7789946115518029\n",
      "11 0.7711892629024266\n",
      "12 0.7743507329616176\n",
      "13 0.7651631556563098\n",
      "14 0.7707938108931713\n",
      "15 0.7644713585054372\n",
      "16 0.7677318378861363\n",
      "17 0.7589388346749177\n",
      "18 0.7646691820561944\n",
      "19 0.7559752857126135\n",
      "20 0.7587420841315857\n",
      "21 0.7539001868983842\n",
      "22 0.7573587824682292\n",
      "23 0.7516276547179161\n",
      "24 0.7544937550967854\n",
      "25 0.7492566984927171\n",
      "26 0.7535056128042951\n",
      "27 0.7486644959401301\n",
      "28 0.7513319923992057\n",
      "29 0.7477751678768889\n",
      "30 0.7492575764078832\n",
      "31 0.7480706351033404\n",
      "32 0.7498486084069156\n",
      "33 0.74737835022182\n",
      "34 0.7495519706269095\n",
      "35 0.7470817124418138\n",
      "36 0.7486621548330206\n",
      "37 0.7445123473890803\n",
      "38 0.7450072964504914\n",
      "39 0.7427348618161529\n",
      "40 0.743130313825408\n",
      "41 0.7404621345434255\n",
      "42 0.7426365353175516\n",
      "43 0.7403638080448244\n",
      "44 0.7443153042073596\n",
      "45 0.740066975172559\n",
      "46 0.7427344716316344\n",
      "47 0.73898001865082\n",
      "48 0.7420429671191506\n",
      "49 0.7384862401429636\n"
     ]
    }
   ],
   "source": [
    "for n in range(1, 50):\n",
    "    clf = neighbors.KNeighborsClassifier(n_neighbors=n)\n",
    "    cv_scores = cross_val_score(clf, features, label, cv=10)\n",
    "    print (n, cv_scores.mean())"
   ]
  },
  {
   "cell_type": "code",
   "execution_count": 49,
   "metadata": {
    "execution": {
     "iopub.execute_input": "2020-09-12T16:32:57.542108Z",
     "iopub.status.busy": "2020-09-12T16:32:57.541112Z",
     "iopub.status.idle": "2020-09-12T16:33:24.452587Z",
     "shell.execute_reply": "2020-09-12T16:33:24.452079Z"
    },
    "papermill": {
     "duration": 26.983143,
     "end_time": "2020-09-12T16:33:24.452702",
     "exception": false,
     "start_time": "2020-09-12T16:32:57.469559",
     "status": "completed"
    },
    "tags": []
   },
   "outputs": [
    {
     "data": {
      "text/plain": [
       "0.7812655829941979"
      ]
     },
     "execution_count": 49,
     "metadata": {},
     "output_type": "execute_result"
    }
   ],
   "source": [
    "C = 1.0\n",
    "svc = svm.SVC(kernel='rbf', C=C)\n",
    "cv_scores = cross_val_score(svc, features,label, cv=10)\n",
    "cv_scores.mean()"
   ]
  },
  {
   "cell_type": "code",
   "execution_count": 50,
   "metadata": {
    "execution": {
     "iopub.execute_input": "2020-09-12T16:33:24.592023Z",
     "iopub.status.busy": "2020-09-12T16:33:24.591021Z",
     "iopub.status.idle": "2020-09-12T16:34:31.037139Z",
     "shell.execute_reply": "2020-09-12T16:34:31.036584Z"
    },
    "papermill": {
     "duration": 66.518998,
     "end_time": "2020-09-12T16:34:31.037276",
     "exception": false,
     "start_time": "2020-09-12T16:33:24.518278",
     "status": "completed"
    },
    "tags": []
   },
   "outputs": [
    {
     "name": "stdout",
     "output_type": "stream",
     "text": [
      "Fitting 3 folds for each of 16 candidates, totalling 48 fits\n"
     ]
    },
    {
     "name": "stderr",
     "output_type": "stream",
     "text": [
      "[Parallel(n_jobs=1)]: Using backend SequentialBackend with 1 concurrent workers.\n",
      "[Parallel(n_jobs=1)]: Done  48 out of  48 | elapsed:  1.1min finished\n"
     ]
    },
    {
     "data": {
      "text/plain": [
       "GridSearchCV(cv=3, estimator=SVC(),\n",
       "             param_grid={'C': [0.1, 1, 10, 100],\n",
       "                         'gamma': [1, 0.1, 0.01, 0.001]},\n",
       "             verbose=1)"
      ]
     },
     "execution_count": 50,
     "metadata": {},
     "output_type": "execute_result"
    }
   ],
   "source": [
    "param_grid = {'C': [0.1,1, 10, 100], 'gamma': [1,0.1,0.01,0.001]}\n",
    "grid_search_cv = GridSearchCV(svc, param_grid, verbose=1, cv=3)\n",
    "grid_search_cv.fit(x_train,y_train)"
   ]
  },
  {
   "cell_type": "code",
   "execution_count": 51,
   "metadata": {
    "execution": {
     "iopub.execute_input": "2020-09-12T16:34:31.180454Z",
     "iopub.status.busy": "2020-09-12T16:34:31.179798Z",
     "iopub.status.idle": "2020-09-12T16:34:31.452236Z",
     "shell.execute_reply": "2020-09-12T16:34:31.451724Z"
    },
    "papermill": {
     "duration": 0.346678,
     "end_time": "2020-09-12T16:34:31.452353",
     "exception": false,
     "start_time": "2020-09-12T16:34:31.105675",
     "status": "completed"
    },
    "tags": []
   },
   "outputs": [
    {
     "data": {
      "text/plain": [
       "0.916633741604109"
      ]
     },
     "execution_count": 51,
     "metadata": {},
     "output_type": "execute_result"
    }
   ],
   "source": [
    "grid_search_cv.best_estimator_.score(x_test,y_test)"
   ]
  },
  {
   "cell_type": "code",
   "execution_count": 52,
   "metadata": {
    "execution": {
     "iopub.execute_input": "2020-09-12T16:34:31.594537Z",
     "iopub.status.busy": "2020-09-12T16:34:31.593792Z",
     "iopub.status.idle": "2020-09-12T16:35:00.288907Z",
     "shell.execute_reply": "2020-09-12T16:35:00.289441Z"
    },
    "papermill": {
     "duration": 28.769084,
     "end_time": "2020-09-12T16:35:00.289608",
     "exception": false,
     "start_time": "2020-09-12T16:34:31.520524",
     "status": "completed"
    },
    "tags": []
   },
   "outputs": [
    {
     "data": {
      "text/plain": [
       "0.5423727705832089"
      ]
     },
     "execution_count": 52,
     "metadata": {},
     "output_type": "execute_result"
    }
   ],
   "source": [
    "C = 1.0\n",
    "svc = svm.SVC(kernel='sigmoid', C=C)\n",
    "cv_scores = cross_val_score(svc,features,label, cv=10)\n",
    "cv_scores.mean()"
   ]
  },
  {
   "cell_type": "code",
   "execution_count": 53,
   "metadata": {
    "execution": {
     "iopub.execute_input": "2020-09-12T16:35:00.434359Z",
     "iopub.status.busy": "2020-09-12T16:35:00.433485Z",
     "iopub.status.idle": "2020-09-12T16:36:08.289074Z",
     "shell.execute_reply": "2020-09-12T16:36:08.288570Z"
    },
    "papermill": {
     "duration": 67.929507,
     "end_time": "2020-09-12T16:36:08.289192",
     "exception": false,
     "start_time": "2020-09-12T16:35:00.359685",
     "status": "completed"
    },
    "tags": []
   },
   "outputs": [
    {
     "name": "stdout",
     "output_type": "stream",
     "text": [
      "Fitting 3 folds for each of 16 candidates, totalling 48 fits\n"
     ]
    },
    {
     "name": "stderr",
     "output_type": "stream",
     "text": [
      "[Parallel(n_jobs=1)]: Using backend SequentialBackend with 1 concurrent workers.\n",
      "[Parallel(n_jobs=1)]: Done  48 out of  48 | elapsed:  1.1min finished\n"
     ]
    },
    {
     "data": {
      "text/plain": [
       "GridSearchCV(cv=3, estimator=SVC(kernel='sigmoid'),\n",
       "             param_grid={'C': [0.1, 1, 10, 100],\n",
       "                         'gamma': [1, 0.1, 0.01, 0.001]},\n",
       "             verbose=1)"
      ]
     },
     "execution_count": 53,
     "metadata": {},
     "output_type": "execute_result"
    }
   ],
   "source": [
    "param_grid = {'C': [0.1,1, 10, 100], 'gamma': [1,0.1,0.01,0.001]}\n",
    "grid_search_cv = GridSearchCV(svc, param_grid, verbose=1, cv=3)\n",
    "grid_search_cv.fit(x_train,y_train)"
   ]
  },
  {
   "cell_type": "code",
   "execution_count": 54,
   "metadata": {
    "execution": {
     "iopub.execute_input": "2020-09-12T16:36:08.433786Z",
     "iopub.status.busy": "2020-09-12T16:36:08.433042Z",
     "iopub.status.idle": "2020-09-12T16:36:08.836792Z",
     "shell.execute_reply": "2020-09-12T16:36:08.837305Z"
    },
    "papermill": {
     "duration": 0.478786,
     "end_time": "2020-09-12T16:36:08.837479",
     "exception": false,
     "start_time": "2020-09-12T16:36:08.358693",
     "status": "completed"
    },
    "tags": []
   },
   "outputs": [
    {
     "data": {
      "text/plain": [
       "0.7404188067957329"
      ]
     },
     "execution_count": 54,
     "metadata": {},
     "output_type": "execute_result"
    }
   ],
   "source": [
    "grid_search_cv.best_estimator_.score(x_test,y_test)"
   ]
  }
 ],
 "metadata": {
  "kernelspec": {
   "display_name": "Python 3",
   "language": "python",
   "name": "python3"
  },
  "language_info": {
   "codemirror_mode": {
    "name": "ipython",
    "version": 3
   },
   "file_extension": ".py",
   "mimetype": "text/x-python",
   "name": "python",
   "nbconvert_exporter": "python",
   "pygments_lexer": "ipython3",
   "version": "3.7.6"
  },
  "papermill": {
   "duration": 454.084965,
   "end_time": "2020-09-12T16:36:09.023829",
   "environment_variables": {},
   "exception": null,
   "input_path": "__notebook__.ipynb",
   "output_path": "__notebook__.ipynb",
   "parameters": {},
   "start_time": "2020-09-12T16:28:34.938864",
   "version": "2.1.0"
  }
 },
 "nbformat": 4,
 "nbformat_minor": 4
}
